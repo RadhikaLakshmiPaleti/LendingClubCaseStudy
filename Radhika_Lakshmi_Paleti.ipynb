{
 "cells": [
  {
   "cell_type": "markdown",
   "id": "62535ed6",
   "metadata": {},
   "source": [
    "# Lending Club Case Study\n",
    "\n",
    "Data Source: <br>\n",
    "Data is from a company which is the largest online loan marketplace, facilitating personal loans, business loans, and financing of medical procedures. <br>\n",
    "Borrowers can easily access lower interest rate loans through a fast online interface\n",
    "\n",
    "Purpose: \n",
    "Identification of the \"Defaulters\" who will be the cause for the credit loss for the company is the aim of this analysis. <br>\n",
    "Also, derive some useful insights out of the analysis."
   ]
  },
  {
   "cell_type": "markdown",
   "id": "09a67171",
   "metadata": {},
   "source": [
    "## Importing the libraries"
   ]
  },
  {
   "cell_type": "code",
   "execution_count": 97,
   "id": "ddca96b0",
   "metadata": {},
   "outputs": [],
   "source": [
    "import numpy as np\n",
    "import pandas as pd\n",
    "import matplotlib.pyplot as plt\n",
    "import seaborn as sns"
   ]
  },
  {
   "cell_type": "markdown",
   "id": "c5fc88f8",
   "metadata": {},
   "source": [
    "## Data Understanding"
   ]
  },
  {
   "cell_type": "code",
   "execution_count": 98,
   "id": "9faf70a5",
   "metadata": {},
   "outputs": [
    {
     "data": {
      "text/plain": [
       "(39717, 111)"
      ]
     },
     "execution_count": 98,
     "metadata": {},
     "output_type": "execute_result"
    }
   ],
   "source": [
    "# Read the data into a dataframe from the csv file\n",
    "loan_df = pd.read_csv(\"loan.csv\", low_memory=False)\n",
    "\n",
    "# Check the shape to the data\n",
    "loan_df.shape"
   ]
  },
  {
   "cell_type": "markdown",
   "id": "ca51c30b",
   "metadata": {},
   "source": [
    "This gives a high level understanding that the data contains details of 39717 loan applicants with 111 different details of each applicant"
   ]
  },
  {
   "cell_type": "code",
   "execution_count": 150,
   "id": "2b420394",
   "metadata": {},
   "outputs": [
    {
     "name": "stdout",
     "output_type": "stream",
     "text": [
      "<class 'pandas.core.frame.DataFrame'>\n",
      "Int64Index: 38577 entries, 0 to 39716\n",
      "Data columns (total 20 columns):\n",
      " #   Column               Non-Null Count  Dtype  \n",
      "---  ------               --------------  -----  \n",
      " 0   loan_amnt            38577 non-null  int64  \n",
      " 1   term                 38577 non-null  object \n",
      " 2   int_rate             38577 non-null  float64\n",
      " 3   installment          38577 non-null  float64\n",
      " 4   grade                38577 non-null  object \n",
      " 5   emp_length           38577 non-null  object \n",
      " 6   home_ownership       38577 non-null  object \n",
      " 7   verification_status  38577 non-null  object \n",
      " 8   issue_d              38577 non-null  object \n",
      " 9   loan_status          38577 non-null  object \n",
      " 10  purpose              38577 non-null  object \n",
      " 11  addr_state           38577 non-null  object \n",
      " 12  dti                  38577 non-null  float64\n",
      " 13  delinq_2yrs          38577 non-null  int64  \n",
      " 14  earliest_cr_line     38577 non-null  object \n",
      " 15  inq_last_6mths       38577 non-null  int64  \n",
      " 16  pub_rec              38577 non-null  int64  \n",
      " 17  revol_util           38527 non-null  float64\n",
      " 18  Year                 38577 non-null  int64  \n",
      " 19  Month                38577 non-null  object \n",
      "dtypes: float64(4), int64(5), object(11)\n",
      "memory usage: 7.2+ MB\n"
     ]
    }
   ],
   "source": [
    "# Get information about the data types and null values of all columns using info() command \n",
    "loan_df.info(verbose=True, show_counts=True)"
   ]
  },
  {
   "cell_type": "markdown",
   "id": "c90540b6",
   "metadata": {},
   "source": [
    "We can observe that the data has many columns which have only null values"
   ]
  },
  {
   "cell_type": "markdown",
   "id": "68013c93",
   "metadata": {},
   "source": [
    "## Data Cleaning"
   ]
  },
  {
   "cell_type": "markdown",
   "id": "89bd085d",
   "metadata": {},
   "source": [
    "###### Drop the columns which might not be useful for analysis"
   ]
  },
  {
   "cell_type": "code",
   "execution_count": 100,
   "id": "f7f1f6c7",
   "metadata": {},
   "outputs": [
    {
     "data": {
      "text/plain": [
       "(39717, 57)"
      ]
     },
     "execution_count": 100,
     "metadata": {},
     "output_type": "execute_result"
    }
   ],
   "source": [
    "# Drop the columns which have null values in all the rows\n",
    "loan_df.dropna(axis=1, how=\"all\", inplace=True)\n",
    "loan_df.shape"
   ]
  },
  {
   "cell_type": "markdown",
   "id": "2a766326",
   "metadata": {},
   "source": [
    "57 columns are remaining after removing the columns with null values"
   ]
  },
  {
   "cell_type": "code",
   "execution_count": 101,
   "id": "fb368ca6",
   "metadata": {},
   "outputs": [
    {
     "data": {
      "text/plain": [
       "id                            39717\n",
       "member_id                     39717\n",
       "loan_amnt                       885\n",
       "funded_amnt                    1041\n",
       "funded_amnt_inv                8205\n",
       "term                              2\n",
       "int_rate                        371\n",
       "installment                   15383\n",
       "grade                             7\n",
       "sub_grade                        35\n",
       "emp_title                     28820\n",
       "emp_length                       11\n",
       "home_ownership                    5\n",
       "annual_inc                     5318\n",
       "verification_status               3\n",
       "issue_d                          55\n",
       "loan_status                       3\n",
       "pymnt_plan                        1\n",
       "url                           39717\n",
       "desc                          26527\n",
       "purpose                          14\n",
       "title                         19615\n",
       "zip_code                        823\n",
       "addr_state                       50\n",
       "dti                            2868\n",
       "delinq_2yrs                      11\n",
       "earliest_cr_line                526\n",
       "inq_last_6mths                    9\n",
       "mths_since_last_delinq           95\n",
       "mths_since_last_record          111\n",
       "open_acc                         40\n",
       "pub_rec                           5\n",
       "revol_bal                     21711\n",
       "revol_util                     1089\n",
       "total_acc                        82\n",
       "initial_list_status               1\n",
       "out_prncp                      1137\n",
       "out_prncp_inv                  1138\n",
       "total_pymnt                   37850\n",
       "total_pymnt_inv               37518\n",
       "total_rec_prncp                7976\n",
       "total_rec_int                 35148\n",
       "total_rec_late_fee             1356\n",
       "recoveries                     4040\n",
       "collection_recovery_fee        2616\n",
       "last_pymnt_d                    101\n",
       "last_pymnt_amnt               34930\n",
       "next_pymnt_d                      2\n",
       "last_credit_pull_d              106\n",
       "collections_12_mths_ex_med        1\n",
       "policy_code                       1\n",
       "application_type                  1\n",
       "acc_now_delinq                    1\n",
       "chargeoff_within_12_mths          1\n",
       "delinq_amnt                       1\n",
       "pub_rec_bankruptcies              3\n",
       "tax_liens                         1\n",
       "dtype: int64"
      ]
     },
     "execution_count": 101,
     "metadata": {},
     "output_type": "execute_result"
    }
   ],
   "source": [
    "# Verify the unique values in each column\n",
    "loan_df.nunique()"
   ]
  },
  {
   "cell_type": "markdown",
   "id": "0a796343",
   "metadata": {},
   "source": [
    "ID column has unique values indicates that there are no duplicate records. <br> \n",
    "Also there are some columns which have the same value for all the rows"
   ]
  },
  {
   "cell_type": "code",
   "execution_count": 102,
   "id": "8b3be4f5",
   "metadata": {},
   "outputs": [],
   "source": [
    "# Drop the irrelevant columns  and columns which might not be much useful for analysis\n",
    "\n",
    "# Drop the columns with same value in all rows as it won't be useful for analysis\n",
    "loan_df.drop(columns=loan_df.columns[loan_df.nunique()==1], inplace=True)\n",
    "\n",
    "# Drop the columns which have more than 50% null values\n",
    "loan_df.drop (columns=[\"mths_since_last_delinq\",\"mths_since_last_record\",\"next_pymnt_d\"], inplace=True)"
   ]
  },
  {
   "cell_type": "code",
   "execution_count": 103,
   "id": "176e372a",
   "metadata": {},
   "outputs": [],
   "source": [
    "# Drop the columns like id, member_id, url, desc, title, emp_title which are mostly unique and specific to an applicant\n",
    "# zip_code which might not be much useful\n",
    "# annual_inc can be removed as dti has more useful information regarding the income\n",
    "loan_df.drop(columns=[\"id\", \"member_id\", \"url\", \"desc\", \"title\", \"emp_title\", \"zip_code\", \"annual_inc\"], inplace=True)"
   ]
  },
  {
   "cell_type": "code",
   "execution_count": 104,
   "id": "8ce024c4",
   "metadata": {},
   "outputs": [],
   "source": [
    "# Drop the columns which might be redundant\n",
    "# \"pub_rec\" and \"pub_rec_bankruptcies\" are closely related\n",
    "# \"total_acc\" and \"open_acc\" can be removed as the volume of credit taken by the applicants is more useful for analysis\n",
    "#  than the number of credit lines\n",
    "# \"revol_bal\" can be removed as \"revol_util\" can be more useful\n",
    "# \"grade\" and \"sub_grade\" are closely related. Removing sub_grade as analysis can be done with grade\n",
    "loan_df.drop(columns=[\"pub_rec_bankruptcies\",\"total_acc\", \"open_acc\",\"revol_bal\", \"sub_grade\"], inplace=True)"
   ]
  },
  {
   "cell_type": "code",
   "execution_count": 105,
   "id": "2fe44db7",
   "metadata": {},
   "outputs": [
    {
     "name": "stdout",
     "output_type": "stream",
     "text": [
      "<class 'pandas.core.frame.DataFrame'>\n",
      "RangeIndex: 39717 entries, 0 to 39716\n",
      "Data columns (total 18 columns):\n",
      " #   Column               Non-Null Count  Dtype  \n",
      "---  ------               --------------  -----  \n",
      " 0   loan_amnt            39717 non-null  int64  \n",
      " 1   term                 39717 non-null  object \n",
      " 2   int_rate             39717 non-null  object \n",
      " 3   installment          39717 non-null  float64\n",
      " 4   grade                39717 non-null  object \n",
      " 5   emp_length           38642 non-null  object \n",
      " 6   home_ownership       39717 non-null  object \n",
      " 7   verification_status  39717 non-null  object \n",
      " 8   issue_d              39717 non-null  object \n",
      " 9   loan_status          39717 non-null  object \n",
      " 10  purpose              39717 non-null  object \n",
      " 11  addr_state           39717 non-null  object \n",
      " 12  dti                  39717 non-null  float64\n",
      " 13  delinq_2yrs          39717 non-null  int64  \n",
      " 14  earliest_cr_line     39717 non-null  object \n",
      " 15  inq_last_6mths       39717 non-null  int64  \n",
      " 16  pub_rec              39717 non-null  int64  \n",
      " 17  revol_util           39667 non-null  object \n",
      "dtypes: float64(2), int64(4), object(12)\n",
      "memory usage: 5.5+ MB\n"
     ]
    }
   ],
   "source": [
    "# Drop the columns which might not have the info when a loan application is received like funded_amnt,\n",
    "# funded_amnt_inv, out_prncp,out_prncp_inv,total_pymnt, total_pymnt_inv, total_rec_prncp, total_rec_int, \n",
    "# total_rec_late_fee, recoveries, collection_recovery_fee, last_pymnt_d, last_pymnt_amnt, last_credit_pull_d\n",
    "loan_df.drop(columns=[\"funded_amnt\", \"funded_amnt_inv\", \"out_prncp\", \"out_prncp_inv\", \"total_pymnt\", \"total_pymnt_inv\",\"total_rec_prncp\",\"total_rec_int\",\"total_rec_late_fee\",\"recoveries\",\"collection_recovery_fee\",\"last_pymnt_d\",\"last_pymnt_amnt\",\"last_credit_pull_d\"], inplace=True)\n",
    "\n",
    "#Check the remaining information in the data\n",
    "loan_df.info()"
   ]
  },
  {
   "cell_type": "markdown",
   "id": "30c25e37",
   "metadata": {},
   "source": [
    "###### Drop the rows which are not useful for analysis"
   ]
  },
  {
   "cell_type": "code",
   "execution_count": 106,
   "id": "541d67da",
   "metadata": {},
   "outputs": [
    {
     "data": {
      "text/plain": [
       "(38577, 18)"
      ]
     },
     "execution_count": 106,
     "metadata": {},
     "output_type": "execute_result"
    }
   ],
   "source": [
    "# Remove the rows with loan_status as \"Current\" as it would be difficult to predict if they are likely to default or not\n",
    "loan_df=loan_df[loan_df[\"loan_status\"]!=\"Current\"]\n",
    "\n",
    "#Check the shape of the data\n",
    "loan_df.shape"
   ]
  },
  {
   "cell_type": "markdown",
   "id": "2259b643",
   "metadata": {},
   "source": [
    "###### Handling Missing Values"
   ]
  },
  {
   "cell_type": "code",
   "execution_count": 107,
   "id": "9f4752f3",
   "metadata": {},
   "outputs": [
    {
     "data": {
      "text/plain": [
       "loan_amnt                 0\n",
       "term                      0\n",
       "int_rate                  0\n",
       "installment               0\n",
       "grade                     0\n",
       "emp_length             1033\n",
       "home_ownership            0\n",
       "verification_status       0\n",
       "issue_d                   0\n",
       "loan_status               0\n",
       "purpose                   0\n",
       "addr_state                0\n",
       "dti                       0\n",
       "delinq_2yrs               0\n",
       "earliest_cr_line          0\n",
       "inq_last_6mths            0\n",
       "pub_rec                   0\n",
       "revol_util               50\n",
       "dtype: int64"
      ]
     },
     "execution_count": 107,
     "metadata": {},
     "output_type": "execute_result"
    }
   ],
   "source": [
    "# Check for columns which have null values\n",
    "loan_df.isnull().sum()"
   ]
  },
  {
   "cell_type": "markdown",
   "id": "d5b509f7",
   "metadata": {},
   "source": [
    "###### Imputing missing values"
   ]
  },
  {
   "cell_type": "markdown",
   "id": "a27e19bc",
   "metadata": {},
   "source": [
    "We have 2.6% of missing values in emp_length column. <br>\n",
    "As it is a categorical variable, we can replace the null values with mode value."
   ]
  },
  {
   "cell_type": "code",
   "execution_count": 108,
   "id": "5b79b8e0",
   "metadata": {},
   "outputs": [
    {
     "data": {
      "text/plain": [
       "0"
      ]
     },
     "execution_count": 108,
     "metadata": {},
     "output_type": "execute_result"
    }
   ],
   "source": [
    "# Impute the missing values with mode as it is a categorical variable\n",
    "loan_df[\"emp_length\"]=loan_df[\"emp_length\"].fillna(loan_df[\"emp_length\"].mode()[0])\n",
    "\n",
    "# Verify that there are no null values in \"emp_length\" column\n",
    "loan_df[\"emp_length\"].isnull().sum()"
   ]
  },
  {
   "cell_type": "markdown",
   "id": "a2b90aad",
   "metadata": {},
   "source": [
    "The column \"revol_util\" will be useful for analysis as a numerical parameter. <br> \n",
    "But due to the presence of % symbol, it is treated as a string. <br>\n",
    "So, we need to change the data type of the \"revol_util\" column before imputing the null values."
   ]
  },
  {
   "cell_type": "code",
   "execution_count": 109,
   "id": "e0922d13",
   "metadata": {},
   "outputs": [
    {
     "data": {
      "text/plain": [
       "count    38527.000000\n",
       "mean        48.702777\n",
       "std         28.364741\n",
       "min          0.000000\n",
       "25%         25.200000\n",
       "50%         49.100000\n",
       "75%         72.300000\n",
       "max         99.900000\n",
       "Name: revol_util, dtype: float64"
      ]
     },
     "execution_count": 109,
     "metadata": {},
     "output_type": "execute_result"
    }
   ],
   "source": [
    "# Correct the data type of revol_util to a float value without changing the null values\n",
    "loan_df[\"revol_util\"]=loan_df[\"revol_util\"].apply(lambda x : float(x.replace(\"%\",\"\")) if pd.notnull(x) else x)\n",
    "\n",
    "# Observe the mean and median of the data in \"revol_util\" column\n",
    "loan_df[\"revol_util\"].describe()"
   ]
  },
  {
   "cell_type": "markdown",
   "id": "b3664363",
   "metadata": {},
   "source": [
    "We have 0.1% of null values in \"revol_util\" column and output of describe command shows that mean and median are almost close to each other.<br>\n",
    "So we can use either of them to impute the null values as it is a numerical value"
   ]
  },
  {
   "cell_type": "code",
   "execution_count": 155,
   "id": "cab6bb57",
   "metadata": {},
   "outputs": [
    {
     "name": "stdout",
     "output_type": "stream",
     "text": [
      "Null values in revol_util column is '50'\n",
      "Data type of Revolving line utilization rate column is 'float64'\n"
     ]
    }
   ],
   "source": [
    "# Fill the null values with median value\n",
    "loan_df[\"revol_util\"].fillna(loan_df[\"revol_util\"].median())\n",
    "\n",
    "# Verify that there are no null values in \"revol_util\" column\n",
    "print(\"Null values in revol_util column is '%s'\"%(loan_df[\"revol_util\"].isnull().sum()))\n",
    "\n",
    "#Verify that the data type of revol_util column is float\n",
    "print(\"Data type of Revolving line utilization rate column is '%s'\"%(loan_df.revol_util.dtype))"
   ]
  },
  {
   "cell_type": "markdown",
   "id": "734042fb",
   "metadata": {},
   "source": [
    "###### Standardizing the values"
   ]
  },
  {
   "cell_type": "markdown",
   "id": "b580f30e",
   "metadata": {},
   "source": [
    "Interest rate should also be a numerical value. <br>\n",
    "So correct the data type of int_rate to a numerical value"
   ]
  },
  {
   "cell_type": "code",
   "execution_count": 111,
   "id": "a7d6d6e6",
   "metadata": {},
   "outputs": [
    {
     "name": "stdout",
     "output_type": "stream",
     "text": [
      "Data type of interest rate column is 'float64'\n"
     ]
    }
   ],
   "source": [
    "# Standardize the values in interest column\n",
    "loan_df[\"int_rate\"]=loan_df[\"int_rate\"].apply(lambda x : float(x.replace(\"%\",\"\")))\n",
    "\n",
    "# Verify that the data type of revol_util column is float\n",
    "print(\"Data type of interest rate column is '%s'\"%(loan_df.int_rate.dtype))"
   ]
  },
  {
   "cell_type": "markdown",
   "id": "72e9c68d",
   "metadata": {},
   "source": [
    "###### Derived Columns"
   ]
  },
  {
   "cell_type": "code",
   "execution_count": 112,
   "id": "7db59e29",
   "metadata": {},
   "outputs": [],
   "source": [
    "# Extract the year and month from the loan issued date column (issue_d)\n",
    "loan_df[\"Year\"]=loan_df[\"issue_d\"].apply(lambda x: int(x.split('-')[1]) + 2000)\n",
    "loan_df[\"Month\"]=loan_df[\"issue_d\"].apply(lambda x: x.split('-')[0])"
   ]
  },
  {
   "cell_type": "code",
   "execution_count": 113,
   "id": "902dac9a",
   "metadata": {},
   "outputs": [
    {
     "data": {
      "text/html": [
       "<div>\n",
       "<style scoped>\n",
       "    .dataframe tbody tr th:only-of-type {\n",
       "        vertical-align: middle;\n",
       "    }\n",
       "\n",
       "    .dataframe tbody tr th {\n",
       "        vertical-align: top;\n",
       "    }\n",
       "\n",
       "    .dataframe thead th {\n",
       "        text-align: right;\n",
       "    }\n",
       "</style>\n",
       "<table border=\"1\" class=\"dataframe\">\n",
       "  <thead>\n",
       "    <tr style=\"text-align: right;\">\n",
       "      <th></th>\n",
       "      <th>loan_amnt</th>\n",
       "      <th>term</th>\n",
       "      <th>int_rate</th>\n",
       "      <th>installment</th>\n",
       "      <th>grade</th>\n",
       "      <th>emp_length</th>\n",
       "      <th>home_ownership</th>\n",
       "      <th>verification_status</th>\n",
       "      <th>issue_d</th>\n",
       "      <th>loan_status</th>\n",
       "      <th>purpose</th>\n",
       "      <th>addr_state</th>\n",
       "      <th>dti</th>\n",
       "      <th>delinq_2yrs</th>\n",
       "      <th>earliest_cr_line</th>\n",
       "      <th>inq_last_6mths</th>\n",
       "      <th>pub_rec</th>\n",
       "      <th>revol_util</th>\n",
       "      <th>Year</th>\n",
       "      <th>Month</th>\n",
       "    </tr>\n",
       "  </thead>\n",
       "  <tbody>\n",
       "    <tr>\n",
       "      <th>0</th>\n",
       "      <td>5000</td>\n",
       "      <td>36 months</td>\n",
       "      <td>10.65</td>\n",
       "      <td>162.87</td>\n",
       "      <td>B</td>\n",
       "      <td>10+ years</td>\n",
       "      <td>RENT</td>\n",
       "      <td>Verified</td>\n",
       "      <td>Dec-11</td>\n",
       "      <td>Fully Paid</td>\n",
       "      <td>credit_card</td>\n",
       "      <td>AZ</td>\n",
       "      <td>27.65</td>\n",
       "      <td>0</td>\n",
       "      <td>Jan-85</td>\n",
       "      <td>1</td>\n",
       "      <td>0</td>\n",
       "      <td>83.7</td>\n",
       "      <td>2011</td>\n",
       "      <td>Dec</td>\n",
       "    </tr>\n",
       "    <tr>\n",
       "      <th>1</th>\n",
       "      <td>2500</td>\n",
       "      <td>60 months</td>\n",
       "      <td>15.27</td>\n",
       "      <td>59.83</td>\n",
       "      <td>C</td>\n",
       "      <td>&lt; 1 year</td>\n",
       "      <td>RENT</td>\n",
       "      <td>Source Verified</td>\n",
       "      <td>Dec-11</td>\n",
       "      <td>Charged Off</td>\n",
       "      <td>car</td>\n",
       "      <td>GA</td>\n",
       "      <td>1.00</td>\n",
       "      <td>0</td>\n",
       "      <td>Apr-99</td>\n",
       "      <td>5</td>\n",
       "      <td>0</td>\n",
       "      <td>9.4</td>\n",
       "      <td>2011</td>\n",
       "      <td>Dec</td>\n",
       "    </tr>\n",
       "    <tr>\n",
       "      <th>2</th>\n",
       "      <td>2400</td>\n",
       "      <td>36 months</td>\n",
       "      <td>15.96</td>\n",
       "      <td>84.33</td>\n",
       "      <td>C</td>\n",
       "      <td>10+ years</td>\n",
       "      <td>RENT</td>\n",
       "      <td>Not Verified</td>\n",
       "      <td>Dec-11</td>\n",
       "      <td>Fully Paid</td>\n",
       "      <td>small_business</td>\n",
       "      <td>IL</td>\n",
       "      <td>8.72</td>\n",
       "      <td>0</td>\n",
       "      <td>Nov-01</td>\n",
       "      <td>2</td>\n",
       "      <td>0</td>\n",
       "      <td>98.5</td>\n",
       "      <td>2011</td>\n",
       "      <td>Dec</td>\n",
       "    </tr>\n",
       "    <tr>\n",
       "      <th>3</th>\n",
       "      <td>10000</td>\n",
       "      <td>36 months</td>\n",
       "      <td>13.49</td>\n",
       "      <td>339.31</td>\n",
       "      <td>C</td>\n",
       "      <td>10+ years</td>\n",
       "      <td>RENT</td>\n",
       "      <td>Source Verified</td>\n",
       "      <td>Dec-11</td>\n",
       "      <td>Fully Paid</td>\n",
       "      <td>other</td>\n",
       "      <td>CA</td>\n",
       "      <td>20.00</td>\n",
       "      <td>0</td>\n",
       "      <td>Feb-96</td>\n",
       "      <td>1</td>\n",
       "      <td>0</td>\n",
       "      <td>21.0</td>\n",
       "      <td>2011</td>\n",
       "      <td>Dec</td>\n",
       "    </tr>\n",
       "    <tr>\n",
       "      <th>5</th>\n",
       "      <td>5000</td>\n",
       "      <td>36 months</td>\n",
       "      <td>7.90</td>\n",
       "      <td>156.46</td>\n",
       "      <td>A</td>\n",
       "      <td>3 years</td>\n",
       "      <td>RENT</td>\n",
       "      <td>Source Verified</td>\n",
       "      <td>Dec-11</td>\n",
       "      <td>Fully Paid</td>\n",
       "      <td>wedding</td>\n",
       "      <td>AZ</td>\n",
       "      <td>11.20</td>\n",
       "      <td>0</td>\n",
       "      <td>Nov-04</td>\n",
       "      <td>3</td>\n",
       "      <td>0</td>\n",
       "      <td>28.3</td>\n",
       "      <td>2011</td>\n",
       "      <td>Dec</td>\n",
       "    </tr>\n",
       "  </tbody>\n",
       "</table>\n",
       "</div>"
      ],
      "text/plain": [
       "   loan_amnt        term  int_rate  installment grade emp_length  \\\n",
       "0       5000   36 months     10.65       162.87     B  10+ years   \n",
       "1       2500   60 months     15.27        59.83     C   < 1 year   \n",
       "2       2400   36 months     15.96        84.33     C  10+ years   \n",
       "3      10000   36 months     13.49       339.31     C  10+ years   \n",
       "5       5000   36 months      7.90       156.46     A    3 years   \n",
       "\n",
       "  home_ownership verification_status issue_d  loan_status         purpose  \\\n",
       "0           RENT            Verified  Dec-11   Fully Paid     credit_card   \n",
       "1           RENT     Source Verified  Dec-11  Charged Off             car   \n",
       "2           RENT        Not Verified  Dec-11   Fully Paid  small_business   \n",
       "3           RENT     Source Verified  Dec-11   Fully Paid           other   \n",
       "5           RENT     Source Verified  Dec-11   Fully Paid         wedding   \n",
       "\n",
       "  addr_state    dti  delinq_2yrs earliest_cr_line  inq_last_6mths  pub_rec  \\\n",
       "0         AZ  27.65            0           Jan-85               1        0   \n",
       "1         GA   1.00            0           Apr-99               5        0   \n",
       "2         IL   8.72            0           Nov-01               2        0   \n",
       "3         CA  20.00            0           Feb-96               1        0   \n",
       "5         AZ  11.20            0           Nov-04               3        0   \n",
       "\n",
       "   revol_util  Year Month  \n",
       "0        83.7  2011   Dec  \n",
       "1         9.4  2011   Dec  \n",
       "2        98.5  2011   Dec  \n",
       "3        21.0  2011   Dec  \n",
       "5        28.3  2011   Dec  "
      ]
     },
     "execution_count": 113,
     "metadata": {},
     "output_type": "execute_result"
    }
   ],
   "source": [
    "# Verify that the Month and Year column are added\n",
    "loan_df.head()"
   ]
  },
  {
   "cell_type": "markdown",
   "id": "7c1b7085",
   "metadata": {},
   "source": [
    "###### Outlier Treatment"
   ]
  },
  {
   "cell_type": "code",
   "execution_count": 114,
   "id": "e5849323",
   "metadata": {},
   "outputs": [
    {
     "data": {
      "text/plain": [
       "<AxesSubplot:>"
      ]
     },
     "execution_count": 114,
     "metadata": {},
     "output_type": "execute_result"
    },
    {
     "data": {
      "image/png": "[encoded data removed]",
      "text/plain": [
       "<Figure size 432x288 with 1 Axes>"
      ]
     },
     "metadata": {
      "needs_background": "light"
     },
     "output_type": "display_data"
    }
   ],
   "source": [
    "#Check if there are any outliers in interest rate column (int_rate) using box plot\n",
    "loan_df.int_rate.plot.box()"
   ]
  },
  {
   "cell_type": "markdown",
   "id": "4e27c327",
   "metadata": {},
   "source": [
    "We find that there are some outliers. Lets find the number of outliers"
   ]
  },
  {
   "cell_type": "code",
   "execution_count": 115,
   "id": "b76aee51",
   "metadata": {},
   "outputs": [
    {
     "data": {
      "text/plain": [
       "(65, 20)"
      ]
     },
     "execution_count": 115,
     "metadata": {},
     "output_type": "execute_result"
    }
   ],
   "source": [
    "# Check the records with int_rate greater than 22.5\n",
    "(loan_df[loan_df[\"int_rate\"]> 22.5]).shape"
   ]
  },
  {
   "cell_type": "markdown",
   "id": "4e6b0c8c",
   "metadata": {},
   "source": [
    "As we have only 0.1% outliers, capping the values to the maximum value in the range - 22.5 "
   ]
  },
  {
   "cell_type": "code",
   "execution_count": 153,
   "id": "e7fd75bf",
   "metadata": {},
   "outputs": [
    {
     "data": {
      "image/png": "[encoded data removed]",
      "text/plain": [
       "<Figure size 432x288 with 1 Axes>"
      ]
     },
     "metadata": {
      "needs_background": "light"
     },
     "output_type": "display_data"
    }
   ],
   "source": [
    "# Cap the values of outliers to the maximum value\n",
    "loan_df[\"int_rate\"]=loan_df[\"int_rate\"].apply(lambda x : x if x <= 22.5 else 22.5)\n",
    "\n",
    "# Check for the outliers again using box plot\n",
    "loan_df.int_rate.plot.box()\n",
    "plt.show()"
   ]
  },
  {
   "cell_type": "markdown",
   "id": "1594cdf8",
   "metadata": {},
   "source": [
    "Outliers in the interest rate column are removed. <br>\n",
    "We can observe that the variation of interest rate for the sanctioned loans is approximately between 9% to 14%"
   ]
  },
  {
   "cell_type": "code",
   "execution_count": 154,
   "id": "d457962d",
   "metadata": {},
   "outputs": [
    {
     "data": {
      "image/png": "[encoded data removed]",
      "text/plain": [
       "<Figure size 432x288 with 1 Axes>"
      ]
     },
     "metadata": {
      "needs_background": "light"
     },
     "output_type": "display_data"
    }
   ],
   "source": [
    "# Check for outliers in revol_util column using a box plot\n",
    "loan_df.revol_util.plot.box()\n",
    "plt.show()"
   ]
  },
  {
   "cell_type": "markdown",
   "id": "db54c2ba",
   "metadata": {},
   "source": [
    "There are no outliers in revol_util column. <br> \n",
    "Observed that most of the applicants are utlising the revolving credit between 30% and 70% of their available credit limit"
   ]
  },
  {
   "cell_type": "markdown",
   "id": "10dd0121",
   "metadata": {},
   "source": [
    "### Univariate Analysis"
   ]
  },
  {
   "cell_type": "code",
   "execution_count": 118,
   "id": "8636bf99",
   "metadata": {},
   "outputs": [
    {
     "data": {
      "image/png": "[encoded data removed]",
      "text/plain": [
       "<Figure size 432x288 with 1 Axes>"
      ]
     },
     "metadata": {
      "needs_background": "light"
     },
     "output_type": "display_data"
    }
   ],
   "source": [
    "# Observe the distribution pattern of loan amount with a histplot\n",
    "sns.histplot(loan_df[\"loan_amnt\"], bins=20)\n",
    "plt.xlabel(\"Loan Amount\")\n",
    "plt.ylabel(\"Frequency\")\n",
    "plt.show()"
   ]
  },
  {
   "cell_type": "markdown",
   "id": "1b08d603",
   "metadata": {},
   "source": [
    "Most of the applicants have been provided with loan less than 15000, though some of them were offered upto 35000"
   ]
  },
  {
   "cell_type": "code",
   "execution_count": 119,
   "id": "86c06e3d",
   "metadata": {},
   "outputs": [
    {
     "data": {
      "image/png": "[encoded data removed]",
      "text/plain": [
       "<Figure size 360x360 with 1 Axes>"
      ]
     },
     "metadata": {
      "needs_background": "light"
     },
     "output_type": "display_data"
    }
   ],
   "source": [
    "# Observe the distribution pattern of interest rates using displot\n",
    "sns.displot(loan_df.int_rate, kind=\"kde\")\n",
    "plt.xlabel(\"Interest Rate\")\n",
    "plt.show()"
   ]
  },
  {
   "cell_type": "markdown",
   "id": "9be05a58",
   "metadata": {},
   "source": [
    "There are a few loan applicants who applied for loans with a higher rate of interest."
   ]
  },
  {
   "cell_type": "code",
   "execution_count": 120,
   "id": "89db342a",
   "metadata": {},
   "outputs": [
    {
     "data": {
      "image/png": "[encoded data removed]",
      "text/plain": [
       "<Figure size 432x288 with 1 Axes>"
      ]
     },
     "metadata": {
      "needs_background": "light"
     },
     "output_type": "display_data"
    }
   ],
   "source": [
    "# Observe the pattern of loan applicant's employment length using a bar plot\n",
    "loan_df.emp_length.value_counts().plot.bar()\n",
    "plt.xlabel(\"Employment Length\")\n",
    "plt.ylabel(\"Number of loans\")\n",
    "plt.show()"
   ]
  },
  {
   "cell_type": "markdown",
   "id": "8399ae4d",
   "metadata": {},
   "source": [
    "Most of the loans were approved for people with more than 10 years of experience"
   ]
  },
  {
   "cell_type": "code",
   "execution_count": 121,
   "id": "0ccb74dd",
   "metadata": {},
   "outputs": [
    {
     "data": {
      "text/plain": [
       "Text(0, 0.5, 'Purpose of Loan')"
      ]
     },
     "execution_count": 121,
     "metadata": {},
     "output_type": "execute_result"
    },
    {
     "data": {
      "image/png": "[encoded data removed]",
      "text/plain": [
       "<Figure size 432x288 with 1 Axes>"
      ]
     },
     "metadata": {
      "needs_background": "light"
     },
     "output_type": "display_data"
    }
   ],
   "source": [
    "# Observe the distribution pattern of the purpose of loan using a horizontal bar plot\n",
    "loan_df.purpose.value_counts().plot.barh()\n",
    "plt.xlabel(\"Number of Loans\")\n",
    "plt.ylabel(\"Purpose of Loan\")"
   ]
  },
  {
   "cell_type": "markdown",
   "id": "885c15c2",
   "metadata": {},
   "source": [
    "Most of the loans were taken by the applicants for debt consolidation "
   ]
  },
  {
   "cell_type": "code",
   "execution_count": 122,
   "id": "3ecc4d63",
   "metadata": {},
   "outputs": [
    {
     "data": {
      "image/png": "[encoded data removed]",
      "text/plain": [
       "<Figure size 432x288 with 1 Axes>"
      ]
     },
     "metadata": {
      "needs_background": "light"
     },
     "output_type": "display_data"
    }
   ],
   "source": [
    "# Plot verification status using bar plot\n",
    "loan_df.verification_status.value_counts().plot.bar()\n",
    "plt.xlabel(\"Verification status of Income\")\n",
    "plt.ylabel(\"Number of Loans\")\n",
    "plt.show()"
   ]
  },
  {
   "cell_type": "markdown",
   "id": "4eeca4f7",
   "metadata": {},
   "source": [
    "According to the plot, income was not verified for a considerable number of applicants"
   ]
  },
  {
   "cell_type": "code",
   "execution_count": 123,
   "id": "5eb1490b",
   "metadata": {},
   "outputs": [
    {
     "data": {
      "image/png": "[encoded data removed]",
      "text/plain": [
       "<Figure size 432x288 with 1 Axes>"
      ]
     },
     "metadata": {
      "needs_background": "light"
     },
     "output_type": "display_data"
    }
   ],
   "source": [
    "# Plot the distribution of loans over different years\n",
    "loan_df[\"Year\"].value_counts().plot.barh()\n",
    "plt.xlabel(\"Number of Loans\")\n",
    "plt.ylabel(\"Loan Issued Year\")\n",
    "plt.show()"
   ]
  },
  {
   "cell_type": "markdown",
   "id": "c05b7e42",
   "metadata": {},
   "source": [
    "The data contains information about the loans sanctioned between the years 2007 to 2011. <br> \n",
    "The number of loans offered to the applicants in every  year is more than 2 times of the loans offered in its previous year."
   ]
  },
  {
   "cell_type": "code",
   "execution_count": 124,
   "id": "fcd662d1",
   "metadata": {},
   "outputs": [
    {
     "data": {
      "image/png": "[encoded data removed]",
      "text/plain": [
       "<Figure size 432x288 with 1 Axes>"
      ]
     },
     "metadata": {
      "needs_background": "light"
     },
     "output_type": "display_data"
    }
   ],
   "source": [
    "#Plot home_ownership using bar plot\n",
    "loan_df[\"home_ownership\"].value_counts().plot.bar()\n",
    "plt.xlabel(\"Home ownership\")\n",
    "plt.ylabel(\"Number of Loans\")\n",
    "plt.show()"
   ]
  },
  {
   "cell_type": "markdown",
   "id": "4a471761",
   "metadata": {},
   "source": [
    "Most of the applicants stay in a rented house or a mortgaged house"
   ]
  },
  {
   "cell_type": "code",
   "execution_count": 125,
   "id": "39ea9990",
   "metadata": {},
   "outputs": [
    {
     "data": {
      "image/png": "[encoded data removed]",
      "text/plain": [
       "<Figure size 432x288 with 1 Axes>"
      ]
     },
     "metadata": {
      "needs_background": "light"
     },
     "output_type": "display_data"
    }
   ],
   "source": [
    "# Observe the pattern delinquecy in the last 2 years\n",
    "loan_df.delinq_2yrs.value_counts().plot.bar()\n",
    "plt.xlabel(\"Delinquecy in last 2 years\")\n",
    "plt.ylabel(\"Number of Loans\")\n",
    "plt.show()"
   ]
  },
  {
   "cell_type": "markdown",
   "id": "72b749b7",
   "metadata": {},
   "source": [
    "Almost 90% of the applicants didnot miss the loan/credit installments in the past 2 years. <br>\n",
    "Only 10% of the applicants have delinquecy incidents"
   ]
  },
  {
   "cell_type": "code",
   "execution_count": 126,
   "id": "13f6f593",
   "metadata": {},
   "outputs": [
    {
     "data": {
      "image/png": "[encoded data removed]",
      "text/plain": [
       "<Figure size 432x288 with 1 Axes>"
      ]
     },
     "metadata": {
      "needs_background": "light"
     },
     "output_type": "display_data"
    }
   ],
   "source": [
    "# Observe the pattern of defaulters\n",
    "loan_df.loan_status.value_counts().plot.bar()\n",
    "plt.xlabel(\"Loan Status\")\n",
    "plt.ylabel(\"Number of Loans\")\n",
    "plt.show()"
   ]
  },
  {
   "cell_type": "markdown",
   "id": "2cb0de3a",
   "metadata": {},
   "source": [
    "Out of the total loans sanctioned, about 15% of the loans were defaulted."
   ]
  },
  {
   "cell_type": "markdown",
   "id": "1462e950",
   "metadata": {},
   "source": [
    "### Segmented Univariate Analysis"
   ]
  },
  {
   "cell_type": "code",
   "execution_count": 127,
   "id": "8cd1bb23",
   "metadata": {},
   "outputs": [
    {
     "data": {
      "image/png": "[encoded data removed]",
      "text/plain": [
       "<Figure size 432x288 with 1 Axes>"
      ]
     },
     "metadata": {
      "needs_background": "light"
     },
     "output_type": "display_data"
    }
   ],
   "source": [
    "# Observe the amount of loans taken in different years\n",
    "loan_df.groupby(\"Year\")[\"loan_amnt\"].sum().plot.bar()\n",
    "plt.xlabel(\"Loan Issued Year\")\n",
    "plt.ylabel(\"Loan amount\")\n",
    "plt.show()"
   ]
  },
  {
   "cell_type": "markdown",
   "id": "8a5dfb6b",
   "metadata": {},
   "source": [
    "Amount of loan approved for the applicants is more than doubled year after year. <br> \n",
    "Plot shows the loan amount in multiples of 10 raised to power of 8"
   ]
  },
  {
   "cell_type": "code",
   "execution_count": 128,
   "id": "345d0618",
   "metadata": {},
   "outputs": [
    {
     "data": {
      "image/png": "[encoded data removed]",
      "text/plain": [
       "<Figure size 432x288 with 1 Axes>"
      ]
     },
     "metadata": {
      "needs_background": "light"
     },
     "output_type": "display_data"
    }
   ],
   "source": [
    "# Plot the amount of loans sanctioned in different months\n",
    "loan_df.groupby(\"Month\")[\"loan_amnt\"].sum().plot.bar()\n",
    "plt.xlabel(\"Loan Issued Month\")\n",
    "plt.ylabel(\"Loan amount\")\n",
    "plt.show()"
   ]
  },
  {
   "cell_type": "markdown",
   "id": "89015b97",
   "metadata": {},
   "source": [
    "Highest loan amount is sanctioned in December and the least in February and January"
   ]
  },
  {
   "cell_type": "markdown",
   "id": "8049accc",
   "metadata": {},
   "source": [
    "### Bivariant Analysis"
   ]
  },
  {
   "cell_type": "code",
   "execution_count": 138,
   "id": "b1b70c9d",
   "metadata": {},
   "outputs": [
    {
     "data": {
      "image/png": "[encoded data removed]",
      "text/plain": [
       "<Figure size 432x288 with 1 Axes>"
      ]
     },
     "metadata": {
      "needs_background": "light"
     },
     "output_type": "display_data"
    }
   ],
   "source": [
    "# Observe the impact of interest rate on loan status\n",
    "sns.boxplot(x=loan_df[\"loan_status\"], y=loan_df[\"int_rate\"])\n",
    "plt.xlabel(\"Loan Status\")\n",
    "plt.ylabel(\"Interest Rate\")\n",
    "plt.show()"
   ]
  },
  {
   "cell_type": "markdown",
   "id": "50fad513",
   "metadata": {},
   "source": [
    "Observation says that loan applicants with higher interest rates are more likely to default the loan payments"
   ]
  },
  {
   "cell_type": "code",
   "execution_count": 130,
   "id": "d3cbd0ec",
   "metadata": {},
   "outputs": [
    {
     "data": {
      "image/png": "[encoded data removed]",
      "text/plain": [
       "<Figure size 432x288 with 1 Axes>"
      ]
     },
     "metadata": {
      "needs_background": "light"
     },
     "output_type": "display_data"
    }
   ],
   "source": [
    "# Observe the distribution of Interest rate according to the grade\n",
    "sns.histplot(x=\"int_rate\", hue=\"grade\",data=loan_df, stat=\"count\", multiple=\"stack\")\n",
    "plt.xlabel(\"Interest Rate\")\n",
    "plt.ylabel(\"Number of Loans\")\n",
    "plt.show()"
   ]
  },
  {
   "cell_type": "markdown",
   "id": "53a16a78",
   "metadata": {},
   "source": [
    "The rate of interest at which the loan was offered has increased from loan grade A to loan grade G. <br> \n",
    "Number of loans issues to grades E,F and G is very less compared to the other grades"
   ]
  },
  {
   "cell_type": "code",
   "execution_count": 131,
   "id": "0e8f364f",
   "metadata": {},
   "outputs": [
    {
     "data": {
      "image/png": "[encoded data removed]",
      "text/plain": [
       "<Figure size 432x288 with 1 Axes>"
      ]
     },
     "metadata": {
      "needs_background": "light"
     },
     "output_type": "display_data"
    }
   ],
   "source": [
    "#Observe the relation between loan term and the interest rate\n",
    "sns.boxplot(x=\"term\", y=\"int_rate\", data= loan_df)\n",
    "plt.xlabel(\"Term\")\n",
    "plt.ylabel(\"Interest Rate\")\n",
    "plt.show()"
   ]
  },
  {
   "cell_type": "markdown",
   "id": "4822a847",
   "metadata": {},
   "source": [
    "Long term loans are sanctioned at higher interest rates"
   ]
  },
  {
   "cell_type": "code",
   "execution_count": 132,
   "id": "b0ec0917",
   "metadata": {},
   "outputs": [
    {
     "data": {
      "image/png": "[encoded data removed]",
      "text/plain": [
       "<Figure size 432x288 with 1 Axes>"
      ]
     },
     "metadata": {
      "needs_background": "light"
     },
     "output_type": "display_data"
    }
   ],
   "source": [
    "# Observe the distribution of defaulters based on the grade\n",
    "sns.histplot(x=\"grade\", hue=\"loan_status\",data=loan_df, stat=\"count\", multiple=\"stack\")\n",
    "plt.xlabel(\"Grade\")\n",
    "plt.ylabel(\"Number of Loans\")\n",
    "plt.show()"
   ]
  },
  {
   "cell_type": "markdown",
   "id": "0d283ea3",
   "metadata": {},
   "source": [
    "Grade of the loan does not seem to strongly determine the defaulters of the loan"
   ]
  },
  {
   "cell_type": "code",
   "execution_count": 133,
   "id": "381e5a0e",
   "metadata": {},
   "outputs": [
    {
     "data": {
      "image/png": "[encoded data removed]",
      "text/plain": [
       "<Figure size 432x288 with 1 Axes>"
      ]
     },
     "metadata": {
      "needs_background": "light"
     },
     "output_type": "display_data"
    }
   ],
   "source": [
    "# Observe the dependency of verification status on defaulters\n",
    "sns.histplot(x=\"verification_status\", hue=\"loan_status\",data=loan_df, stat=\"count\", multiple=\"dodge\")\n",
    "plt.xlabel(\"Verification Status\")\n",
    "plt.ylabel(\"Number of Loans\")\n",
    "plt.show()"
   ]
  },
  {
   "cell_type": "markdown",
   "id": "b1c7cdc6",
   "metadata": {},
   "source": [
    "Loan have been defaulted by applicants whose Income or Income source is verified also"
   ]
  },
  {
   "cell_type": "code",
   "execution_count": 134,
   "id": "d6b43d6c",
   "metadata": {},
   "outputs": [
    {
     "data": {
      "image/png": "[encoded data removed]",
      "text/plain": [
       "<Figure size 432x288 with 1 Axes>"
      ]
     },
     "metadata": {
      "needs_background": "light"
     },
     "output_type": "display_data"
    }
   ],
   "source": [
    "# Observe the impact of long term loans on the defaulters\n",
    "sns.histplot(x=\"term\", hue=\"loan_status\",data=loan_df, stat=\"count\", multiple=\"dodge\")\n",
    "plt.xlabel(\"Term\")\n",
    "plt.ylabel(\"Number of Loans\")\n",
    "plt.show()"
   ]
  },
  {
   "cell_type": "markdown",
   "id": "ca6809c0",
   "metadata": {},
   "source": [
    "Percentage of defaulters seems to be high for long term loans"
   ]
  },
  {
   "cell_type": "code",
   "execution_count": 135,
   "id": "25f594bd",
   "metadata": {
    "scrolled": true
   },
   "outputs": [
    {
     "data": {
      "image/png": "[encoded data removed]",
      "text/plain": [
       "<Figure size 432x288 with 1 Axes>"
      ]
     },
     "metadata": {
      "needs_background": "light"
     },
     "output_type": "display_data"
    }
   ],
   "source": [
    "# Observe the pattern of loan term based on interest rate and grade\n",
    "sns.boxplot(y= \"int_rate\", x=\"grade\", data=loan_df, hue=\"term\")\n",
    "plt.xlabel(\"Grade\")\n",
    "plt.ylabel(\"Interest Rate\")\n",
    "plt.show()"
   ]
  },
  {
   "cell_type": "markdown",
   "id": "29d5d5f5",
   "metadata": {
    "scrolled": false
   },
   "source": [
    "Interest rates of loans are in increasing order for grades A to G. <br> \n",
    "Most of the loans sanctioned for the grades D, E, F and G are long term high interest loans"
   ]
  },
  {
   "cell_type": "code",
   "execution_count": 149,
   "id": "c906c242",
   "metadata": {},
   "outputs": [
    {
     "data": {
      "image/png": "[encoded data removed]",
      "text/plain": [
       "<Figure size 1440x432 with 1 Axes>"
      ]
     },
     "metadata": {
      "needs_background": "light"
     },
     "output_type": "display_data"
    }
   ],
   "source": [
    "# Observe the impact of verifiction status\n",
    "plt.figure(figsize=[20,6])\n",
    "g=sns.boxplot(x=\"grade\", y=\"loan_amnt\", data= loan_df, hue=\"verification_status\")\n",
    "plt.xlabel(\"Grade\")\n",
    "plt.ylabel(\"Loan \")\n",
    "g.legend(loc='upper right')\n",
    "plt.show()"
   ]
  },
  {
   "cell_type": "markdown",
   "id": "3fc480c6",
   "metadata": {},
   "source": [
    "Loan amount sanctioned to the applicants whose income is not verified is low compared to the other applicants. <br>\n",
    "For applicants whose income is not verified, more amount is sanctioned for grade G. <br>\n",
    "According to the previous observations, we can conclude that higher amount is sanctioned for grade G at higher interest rates even when income of loan applicants is not verified"
   ]
  },
  {
   "cell_type": "markdown",
   "id": "8ac2a30b",
   "metadata": {},
   "source": [
    "### Multi Variate Analysis"
   ]
  },
  {
   "cell_type": "code",
   "execution_count": 137,
   "id": "cb8e5a9f",
   "metadata": {},
   "outputs": [
    {
     "data": {
      "image/png": "[encoded data removed]",
      "text/plain": [
       "<Figure size 432x288 with 2 Axes>"
      ]
     },
     "metadata": {
      "needs_background": "light"
     },
     "output_type": "display_data"
    }
   ],
   "source": [
    "# Observe the correlation between all the parameters in the data\n",
    "sns.heatmap(loan_df.corr(), cmap= \"Greens\")\n",
    "plt.show()"
   ]
  },
  {
   "cell_type": "markdown",
   "id": "dab0344a",
   "metadata": {},
   "source": [
    "## Summary of insights from the analysis"
   ]
  },
  {
   "cell_type": "markdown",
   "id": "fadd5a0d",
   "metadata": {},
   "source": [
    "- Loan with higher interest rate have a higher tendency to default the loans.\n",
    "- Prominent purpose of the loan is Debt Consolidation.\n",
    "- Most of the long term loans are sanctioned at a higher interest rate.\n",
    "- Most of the loans sanctioned for grades E, F and G are at higher interest rates.\n",
    "- When income source is not verified, company is likely to sanction loans with lower amount or more amount at higher interest rate.\n",
    "- Data is collected from the years 2007 to 2011.\n",
    "- Every year, the number of loans and the total amount sanctioned for all the loans together is more than 2 times of its previous year."
   ]
  }
 ],
 "metadata": {
  "kernelspec": {
   "display_name": "Python 3",
   "language": "python",
   "name": "python3"
  },
  "language_info": {
   "codemirror_mode": {
    "name": "ipython",
    "version": 3
   },
   "file_extension": ".py",
   "mimetype": "text/x-python",
   "name": "python",
   "nbconvert_exporter": "python",
   "pygments_lexer": "ipython3",
   "version": "3.8.8"
  }
 },
 "nbformat": 4,
 "nbformat_minor": 5
}
